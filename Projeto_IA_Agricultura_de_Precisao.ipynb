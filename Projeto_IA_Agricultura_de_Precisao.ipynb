{
  "nbformat": 4,
  "nbformat_minor": 0,
  "metadata": {
    "colab": {
      "provenance": [],
      "mount_file_id": "1Xr10mK2gfv0qYtQffCynfTVp7bmUxAJb",
      "authorship_tag": "ABX9TyMlzasOtmOdNA+sLm6Ixy/i",
      "include_colab_link": true
    },
    "kernelspec": {
      "name": "python3",
      "display_name": "Python 3"
    },
    "language_info": {
      "name": "python"
    }
  },
  "cells": [
    {
      "cell_type": "markdown",
      "metadata": {
        "id": "view-in-github",
        "colab_type": "text"
      },
      "source": [
        "<a href=\"https://colab.research.google.com/github/takatonto/Projeto_IA_Agricultura_de_Precisao/blob/main/Projeto_IA_Agricultura_de_Precisao.ipynb\" target=\"_parent\"><img src=\"https://colab.research.google.com/assets/colab-badge.svg\" alt=\"Open In Colab\"/></a>"
      ]
    },
    {
      "cell_type": "code",
      "execution_count": 77,
      "metadata": {
        "id": "fuYP2h6zoXNm"
      },
      "outputs": [],
      "source": [
        "import google.generativeai as genai\n",
        "\n",
        "GOOGLE_API_KEY=\"API_KEY\"\n",
        "genai.configure(api_key=GOOGLE_API_KEY)"
      ]
    },
    {
      "cell_type": "code",
      "source": [
        "generation_config = {\n",
        "    \"candidate_count\": 1,\n",
        "    \"temperature\": 0.5,\n",
        "}"
      ],
      "metadata": {
        "id": "J2nchUOtoiHb"
      },
      "execution_count": null,
      "outputs": []
    },
    {
      "cell_type": "code",
      "source": [
        "safety_settings = {\n",
        "    \"HARASSMENT\": \"BLOCK_NONE\",\n",
        "    \"HATE\": \"BLOCK_NONE\",\n",
        "    \"SEXUAL\": \"BLOCK_NONE\",\n",
        "    \"DANGEROUS\": \"BLOCK_NONE\",\n",
        "}"
      ],
      "metadata": {
        "id": "PQagcS7doiSb"
      },
      "execution_count": null,
      "outputs": []
    },
    {
      "cell_type": "code",
      "source": [
        "model = genai.GenerativeModel(model_name=\"gemini-1.0-pro\",\n",
        "                              generation_config=generation_config,\n",
        "                              safety_settings=safety_settings\n",
        "                              )"
      ],
      "metadata": {
        "id": "2iSCeteioiqz"
      },
      "execution_count": null,
      "outputs": []
    },
    {
      "cell_type": "code",
      "source": [
        "chat = model.start_chat(history=[])"
      ],
      "metadata": {
        "id": "hjBxatnuonJr"
      },
      "execution_count": null,
      "outputs": []
    },
    {
      "cell_type": "markdown",
      "source": [
        "## **Instruções:**"
      ],
      "metadata": {
        "id": "KxW7b5SZsCuX"
      }
    },
    {
      "cell_type": "code",
      "source": [
        "chatbot = \"Você é Agro, uma IA especializada em agronegócio. Sua tarefa é auxiliar o conversante fornecendo-lhe informações sobre essa área com linguagem simples, e formal quando necessária (legislações, documentos, etc.). Ofereça o máximo de informações que puder, e informações adicionais sempre. \""
      ],
      "metadata": {
        "id": "CyVD-YhIo8I6"
      },
      "execution_count": null,
      "outputs": []
    },
    {
      "cell_type": "markdown",
      "source": [
        "## **Conversa padrão:**"
      ],
      "metadata": {
        "id": "76Txsf4qsAkP"
      }
    },
    {
      "cell_type": "code",
      "source": [
        "prompt = input(\"Olá! Meu nome é Agro, e sou especializado em diversas áreas do agronegócio! Posso analisar as suas terras, te ajudar a com pecuária e fornecer dados para garantir que seu planejamento tenha bons resultados! \\n Digite: \")\n",
        "\n",
        "while prompt != \"Fim\":\n",
        "  response = chat.send_message(prompt)\n",
        "  print(\"Resposta: \", response.text, \"\\n\")\n",
        "  prompt = input(\"Digite: \")"
      ],
      "metadata": {
        "id": "JWq90VcJo86C",
        "colab": {
          "base_uri": "https://localhost:8080/",
          "height": 1000
        },
        "outputId": "50204dbd-3ee6-44a6-8b01-464c3c105543"
      },
      "execution_count": 78,
      "outputs": [
        {
          "output_type": "stream",
          "name": "stdout",
          "text": [
            "Olá! Meu nome é Agro, e sou especializado em diversas áreas do agronegócio! Posso analisar as suas terras, te ajudar a com pecuária e fornecer dados para garantir que seu planejamento tenha bons resultados! \n",
            " Digite: Preciso de ajuda para plantação de milho.\n",
            "Resposta:  **Como Plantar Milho**\n",
            "\n",
            "**1. Preparando o Solo**\n",
            "\n",
            "* Escolha um local ensolarado com solo bem drenado.\n",
            "* Teste o pH do solo e ajuste-o para 6,0-6,8.\n",
            "* Adicione matéria orgânica, como composto ou estrume, para melhorar a fertilidade e a retenção de umidade.\n",
            "\n",
            "**2. Escolha da Variedade**\n",
            "\n",
            "* Selecione uma variedade de milho adequada para sua região e época de plantio.\n",
            "* Considere o tempo de maturação, resistência a doenças e altura das plantas.\n",
            "\n",
            "**3. Plantio**\n",
            "\n",
            "* Plante as sementes a uma profundidade de 2,5 a 5 cm.\n",
            "* Espace as sementes de 15 a 20 cm de distância em linhas espaçadas de 75 a 90 cm.\n",
            "* Regue bem após o plantio.\n",
            "\n",
            "**4. Cuidados**\n",
            "\n",
            "* **Rega:** Regue profundamente e regularmente, especialmente durante os períodos secos.\n",
            "* **Fertilização:** Fertilize as plantas com um fertilizante balanceado após o surgimento e novamente quando as plantas tiverem cerca de 30 cm de altura.\n",
            "* **Capina:** Mantenha a área ao redor das plantas livre de ervas daninhas.\n",
            "* **Controle de pragas:** Monitore as plantas quanto a pragas, como besouros do milho e lagartas, e tome medidas de controle adequadas.\n",
            "\n",
            "**5. Colheita**\n",
            "\n",
            "* O milho está pronto para a colheita quando as espigas estiverem cheias e os grãos estiverem leitosos.\n",
            "* Retire as espigas das plantas e descasque-as ou armazene-as inteiras em local fresco e seco.\n",
            "\n",
            "**Dicas Adicionais**\n",
            "\n",
            "* Plante milho em blocos para melhorar a polinização.\n",
            "* Plante milho com outras culturas, como feijão e abóbora, para aumentar o rendimento e reduzir pragas.\n",
            "* Use cobertura morta ao redor das plantas para reter a umidade e suprimir ervas daninhas.\n",
            "* Gire as culturas de milho a cada 3-4 anos para evitar doenças e melhorar a saúde do solo. \n",
            "\n"
          ]
        },
        {
          "output_type": "error",
          "ename": "KeyboardInterrupt",
          "evalue": "Interrupted by user",
          "traceback": [
            "\u001b[0;31m---------------------------------------------------------------------------\u001b[0m",
            "\u001b[0;31mKeyboardInterrupt\u001b[0m                         Traceback (most recent call last)",
            "\u001b[0;32m<ipython-input-78-8b0ec7b4e1f0>\u001b[0m in \u001b[0;36m<cell line: 3>\u001b[0;34m()\u001b[0m\n\u001b[1;32m      4\u001b[0m   \u001b[0mresponse\u001b[0m \u001b[0;34m=\u001b[0m \u001b[0mchat\u001b[0m\u001b[0;34m.\u001b[0m\u001b[0msend_message\u001b[0m\u001b[0;34m(\u001b[0m\u001b[0mprompt\u001b[0m\u001b[0;34m)\u001b[0m\u001b[0;34m\u001b[0m\u001b[0;34m\u001b[0m\u001b[0m\n\u001b[1;32m      5\u001b[0m   \u001b[0mprint\u001b[0m\u001b[0;34m(\u001b[0m\u001b[0;34m\"Resposta: \"\u001b[0m\u001b[0;34m,\u001b[0m \u001b[0mresponse\u001b[0m\u001b[0;34m.\u001b[0m\u001b[0mtext\u001b[0m\u001b[0;34m,\u001b[0m \u001b[0;34m\"\\n\"\u001b[0m\u001b[0;34m)\u001b[0m\u001b[0;34m\u001b[0m\u001b[0;34m\u001b[0m\u001b[0m\n\u001b[0;32m----> 6\u001b[0;31m   \u001b[0mprompt\u001b[0m \u001b[0;34m=\u001b[0m \u001b[0minput\u001b[0m\u001b[0;34m(\u001b[0m\u001b[0;34m\"Digite: \"\u001b[0m\u001b[0;34m)\u001b[0m\u001b[0;34m\u001b[0m\u001b[0;34m\u001b[0m\u001b[0m\n\u001b[0m",
            "\u001b[0;32m/usr/local/lib/python3.10/dist-packages/ipykernel/kernelbase.py\u001b[0m in \u001b[0;36mraw_input\u001b[0;34m(self, prompt)\u001b[0m\n\u001b[1;32m    849\u001b[0m                 \u001b[0;34m\"raw_input was called, but this frontend does not support input requests.\"\u001b[0m\u001b[0;34m\u001b[0m\u001b[0;34m\u001b[0m\u001b[0m\n\u001b[1;32m    850\u001b[0m             )\n\u001b[0;32m--> 851\u001b[0;31m         return self._input_request(str(prompt),\n\u001b[0m\u001b[1;32m    852\u001b[0m             \u001b[0mself\u001b[0m\u001b[0;34m.\u001b[0m\u001b[0m_parent_ident\u001b[0m\u001b[0;34m,\u001b[0m\u001b[0;34m\u001b[0m\u001b[0;34m\u001b[0m\u001b[0m\n\u001b[1;32m    853\u001b[0m             \u001b[0mself\u001b[0m\u001b[0;34m.\u001b[0m\u001b[0m_parent_header\u001b[0m\u001b[0;34m,\u001b[0m\u001b[0;34m\u001b[0m\u001b[0;34m\u001b[0m\u001b[0m\n",
            "\u001b[0;32m/usr/local/lib/python3.10/dist-packages/ipykernel/kernelbase.py\u001b[0m in \u001b[0;36m_input_request\u001b[0;34m(self, prompt, ident, parent, password)\u001b[0m\n\u001b[1;32m    893\u001b[0m             \u001b[0;32mexcept\u001b[0m \u001b[0mKeyboardInterrupt\u001b[0m\u001b[0;34m:\u001b[0m\u001b[0;34m\u001b[0m\u001b[0;34m\u001b[0m\u001b[0m\n\u001b[1;32m    894\u001b[0m                 \u001b[0;31m# re-raise KeyboardInterrupt, to truncate traceback\u001b[0m\u001b[0;34m\u001b[0m\u001b[0;34m\u001b[0m\u001b[0m\n\u001b[0;32m--> 895\u001b[0;31m                 \u001b[0;32mraise\u001b[0m \u001b[0mKeyboardInterrupt\u001b[0m\u001b[0;34m(\u001b[0m\u001b[0;34m\"Interrupted by user\"\u001b[0m\u001b[0;34m)\u001b[0m \u001b[0;32mfrom\u001b[0m \u001b[0;32mNone\u001b[0m\u001b[0;34m\u001b[0m\u001b[0;34m\u001b[0m\u001b[0m\n\u001b[0m\u001b[1;32m    896\u001b[0m             \u001b[0;32mexcept\u001b[0m \u001b[0mException\u001b[0m \u001b[0;32mas\u001b[0m \u001b[0me\u001b[0m\u001b[0;34m:\u001b[0m\u001b[0;34m\u001b[0m\u001b[0;34m\u001b[0m\u001b[0m\n\u001b[1;32m    897\u001b[0m                 \u001b[0mself\u001b[0m\u001b[0;34m.\u001b[0m\u001b[0mlog\u001b[0m\u001b[0;34m.\u001b[0m\u001b[0mwarning\u001b[0m\u001b[0;34m(\u001b[0m\u001b[0;34m\"Invalid Message:\"\u001b[0m\u001b[0;34m,\u001b[0m \u001b[0mexc_info\u001b[0m\u001b[0;34m=\u001b[0m\u001b[0;32mTrue\u001b[0m\u001b[0;34m)\u001b[0m\u001b[0;34m\u001b[0m\u001b[0;34m\u001b[0m\u001b[0m\n",
            "\u001b[0;31mKeyboardInterrupt\u001b[0m: Interrupted by user"
          ]
        }
      ]
    },
    {
      "cell_type": "code",
      "source": [],
      "metadata": {
        "id": "56sLMdKBsB17"
      },
      "execution_count": null,
      "outputs": []
    },
    {
      "cell_type": "markdown",
      "source": [
        "## **Analisar terra de plantio:**\n",
        "\n"
      ],
      "metadata": {
        "id": "T_0G1JwTr994"
      }
    },
    {
      "cell_type": "code",
      "source": [
        "# Solicitar uma imagem de satélite da plantação do conversante\n",
        "prompt = \"Por favor, forneça uma imagem de satélite da minha plantação.\"\n",
        "response = chat.send_message(prompt)\n",
        "#image_url = response.text\n",
        "\n",
        "# Analisar a imagem usando técnicas de agricultura de precisão\n",
        "# Exemplo: NDVI (Índice de Vegetação por Diferença Normalizada)\n",
        "import rasterio\n",
        "import rasterio.plot\n",
        "import rasterstats\n",
        "\n",
        "with rasterio.open('/content/imagem_2024-05-09_160312934.png') as dataset:\n",
        "  # Read the image data\n",
        "  image_data = dataset.read()\n",
        "\n",
        "  # Get the image metadata\n",
        "  image_metadata = dataset.profile\n",
        "\n",
        "  # Print the image data and metadata\n",
        "  print(image_data)\n",
        "  print(image_metadata)\n",
        "\n",
        "  # Calcular o NDVI\n",
        "  red = dataset.read(1)\n",
        "  nir = dataset.read(2)\n",
        "  ndvi = (nir - red) / (nir + red)\n",
        "\n",
        "  # Mostrar a imagem NDVI\n",
        "  show(ndvi)\n"
      ],
      "metadata": {
        "id": "wXBzgq2lpJZa"
      },
      "execution_count": null,
      "outputs": []
    },
    {
      "cell_type": "markdown",
      "source": [],
      "metadata": {
        "id": "jSeoCOGWzPxN"
      }
    },
    {
      "cell_type": "markdown",
      "source": [
        "## **Histórico da Conversa:**"
      ],
      "metadata": {
        "id": "b_Bl5RdjsPKm"
      }
    },
    {
      "cell_type": "code",
      "source": [
        "#Melhorando a visualização\n",
        "#Código disponível em https://ai.google/dev/tutorials/python/quickstart#import_packages\n",
        "import textwrap\n",
        "from IPython.display import display\n",
        "from IPython.display import Markdown\n",
        "\n",
        "def to_markdown(text):\n",
        "  text = text.replace('•', '  *')\n",
        "  return Markdown(textwrap.indent(text, '> ', predicate=lambda _: True))\n",
        "\n",
        "#Imprimindo o histórico:\n",
        "for message in chat.history:\n",
        "  display(to_markdown(f'**{message.role}**: {message.parts[0].text}'))\n",
        "  print('-'*100)"
      ],
      "metadata": {
        "id": "ft_GXDbOo82C"
      },
      "execution_count": null,
      "outputs": []
    }
  ]
}